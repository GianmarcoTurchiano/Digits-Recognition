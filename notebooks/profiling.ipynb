{
 "cells": [
  {
   "cell_type": "code",
   "execution_count": 1,
   "metadata": {},
   "outputs": [],
   "source": [
    "from torch.profiler import profile, ProfilerActivity"
   ]
  },
  {
   "cell_type": "code",
   "execution_count": 2,
   "metadata": {},
   "outputs": [],
   "source": [
    "from digits_recognition.modeling.train import setup_components, training_step, load_dataset\n",
    "\n",
    "TRAIN_SET_PATH = r'../data/processed/train_set.pkl'\n",
    "BATCH_SIZE = 64\n",
    "LEARNING_RATE = 1e-2\n",
    "WEIGHT_DECAY = 1e-2\n",
    "EPOCHS = 1\n",
    "POLYNOMIAL_SCHEDULER_POWER = 1\n",
    "\n",
    "model, _, device, optimizer, criterion, _ = setup_components(\n",
    "    TRAIN_SET_PATH,\n",
    "    BATCH_SIZE,\n",
    "    LEARNING_RATE,\n",
    "    WEIGHT_DECAY,\n",
    "    EPOCHS,\n",
    "    POLYNOMIAL_SCHEDULER_POWER,\n",
    "    dataloader_workers=2\n",
    ")"
   ]
  },
  {
   "cell_type": "code",
   "execution_count": 3,
   "metadata": {},
   "outputs": [],
   "source": [
    "loader = load_dataset(\n",
    "    TRAIN_SET_PATH,\n",
    "    shuffle=True,\n",
    "    batch_size=BATCH_SIZE,\n",
    "    num_workers=4,\n",
    "    augment=True\n",
    ")"
   ]
  },
  {
   "cell_type": "code",
   "execution_count": 4,
   "metadata": {},
   "outputs": [
    {
     "name": "stderr",
     "output_type": "stream",
     "text": [
      "                                                           \r"
     ]
    }
   ],
   "source": [
    "with profile(activities=[ProfilerActivity.CPU, ProfilerActivity.CUDA], record_shapes=True) as prof:\n",
    "    training_step(model, loader, device, optimizer, criterion)"
   ]
  },
  {
   "cell_type": "code",
   "execution_count": null,
   "metadata": {},
   "outputs": [
    {
     "name": "stdout",
     "output_type": "stream",
     "text": [
      "-------------------------------------------------------  ------------  ------------  ------------  ------------  ------------  ------------  ------------  ------------  ------------  ------------  \n",
      "                                                   Name    Self CPU %      Self CPU   CPU total %     CPU total  CPU time avg     Self CUDA   Self CUDA %    CUDA total  CUDA time avg    # of Calls  \n",
      "-------------------------------------------------------  ------------  ------------  ------------  ------------  ------------  ------------  ------------  ------------  ------------  ------------  \n",
      "                               Optimizer.step#Adam.step         0.00%       0.000us         0.00%       0.000us       0.000us        2.943s       106.19%        2.943s       3.693ms           797  \n",
      "                               Optimizer.step#Adam.step         1.57%     842.364ms         5.73%        3.074s       3.857ms       0.000us         0.00%        1.505s       1.889ms           797  \n",
      "    autograd::engine::evaluate_function: AddmmBackward0         0.28%     151.468ms         3.49%        1.876s     784.543us       0.000us         0.00%     598.465ms     250.299us          2391  \n",
      "                                         AddmmBackward0         0.18%      97.371ms         1.65%     884.793ms     370.052us       0.000us         0.00%     462.321ms     193.359us          2391  \n",
      "                                               aten::mm         0.63%     336.726ms         1.17%     628.018ms     157.596us     462.321ms        16.68%     462.321ms     116.015us          3985  \n",
      "                                           aten::linear         0.08%      40.428ms         5.14%        2.758s       1.153ms       0.000us         0.00%     369.626ms     154.591us          2391  \n",
      "                                            aten::addmm         2.72%        1.459s         4.84%        2.597s       1.086ms     369.626ms        13.34%     369.626ms     154.591us          2391  \n",
      "                                aten::_foreach_addcdiv_         0.10%      54.997ms         0.18%      97.278ms     122.056us     289.265ms        10.44%     289.265ms     362.942us           797  \n",
      "void at::native::(anonymous namespace)::multi_tensor...         0.00%       0.000us         0.00%       0.000us       0.000us     289.265ms        10.44%     289.265ms     362.942us           797  \n",
      "                                maxwell_sgemm_128x32_tn         0.00%       0.000us         0.00%       0.000us       0.000us     282.071ms        10.18%     282.071ms     117.972us          2391  \n",
      "-------------------------------------------------------  ------------  ------------  ------------  ------------  ------------  ------------  ------------  ------------  ------------  ------------  \n",
      "Self CPU time total: 53.693s\n",
      "Self CUDA time total: 2.771s\n",
      "\n"
     ]
    }
   ],
   "source": [
    "sort_by_keyword = \"cuda_time_total\"\n",
    "\n",
    "print(prof.key_averages().table(sort_by=sort_by_keyword, row_limit=10))"
   ]
  },
  {
   "cell_type": "code",
   "execution_count": null,
   "metadata": {},
   "outputs": [],
   "source": [
    "sort_by_keyword = \"cpu_time_total\"\n",
    "\n",
    "print(prof.key_averages().table(sort_by=sort_by_keyword, row_limit=10))"
   ]
  },
  {
   "cell_type": "code",
   "execution_count": null,
   "metadata": {},
   "outputs": [],
   "source": [
    "model, loader, device, optimizer, criterion, _ = setup_components(\n",
    "    TRAIN_SET_PATH,\n",
    "    BATCH_SIZE,\n",
    "    LEARNING_RATE,\n",
    "    WEIGHT_DECAY,\n",
    "    EPOCHS,\n",
    "    POLYNOMIAL_SCHEDULER_POWER,\n",
    "    augment_data=False\n",
    ")"
   ]
  },
  {
   "cell_type": "code",
   "execution_count": null,
   "metadata": {},
   "outputs": [
    {
     "name": "stderr",
     "output_type": "stream",
     "text": [
      "                                                           \r"
     ]
    }
   ],
   "source": [
    "with profile(activities=[ProfilerActivity.CPU, ProfilerActivity.CUDA], record_shapes=True) as prof:\n",
    "    training_step(model, loader, device, optimizer, criterion)"
   ]
  },
  {
   "cell_type": "code",
   "execution_count": null,
   "metadata": {},
   "outputs": [
    {
     "name": "stdout",
     "output_type": "stream",
     "text": [
      "-------------------------------------------------------  ------------  ------------  ------------  ------------  ------------  ------------  ------------  ------------  ------------  ------------  \n",
      "                                                   Name    Self CPU %      Self CPU   CPU total %     CPU total  CPU time avg     Self CUDA   Self CUDA %    CUDA total  CUDA time avg    # of Calls  \n",
      "-------------------------------------------------------  ------------  ------------  ------------  ------------  ------------  ------------  ------------  ------------  ------------  ------------  \n",
      "enumerate(DataLoader)#_MultiProcessingDataLoaderIter...        31.75%        3.468s        32.06%        3.502s       4.389ms       0.000us         0.00%       0.000us       0.000us           798  \n",
      "                               Optimizer.step#Adam.step         7.76%     848.247ms        17.06%        1.864s       2.338ms       0.000us         0.00%        1.670s       2.095ms           797  \n",
      "                                       cudaLaunchKernel        13.09%        1.430s        13.09%        1.430s      56.045us       0.000us         0.00%       0.000us       0.000us         25516  \n",
      "                                  cudaStreamSynchronize        12.98%        1.418s        12.98%        1.418s     593.246us       0.000us         0.00%       0.000us       0.000us          2391  \n",
      "    autograd::engine::evaluate_function: AddmmBackward0         1.40%     153.131ms        10.52%        1.150s     480.898us       0.000us         0.00%     670.525ms     280.437us          2391  \n",
      "                                             aten::item         0.31%      34.082ms         9.06%     990.205ms      95.552us       0.000us         0.00%       2.005ms       0.193us         10363  \n",
      "                                               aten::to         0.44%      48.378ms         9.02%     984.976ms     308.383us       0.000us         0.00%     203.378ms      63.675us          3194  \n",
      "                              aten::_local_scalar_dense         0.51%      55.196ms         8.75%     956.123ms      92.263us       2.005ms         0.07%       2.005ms       0.193us         10363  \n",
      "                                         aten::_to_copy         0.39%      42.499ms         8.57%     936.598ms     587.577us       0.000us         0.00%     203.378ms     127.590us          1594  \n",
      "                                            aten::copy_         0.54%      59.174ms         7.66%     836.404ms     524.720us     203.378ms         6.60%     203.378ms     127.590us          1594  \n",
      "-------------------------------------------------------  ------------  ------------  ------------  ------------  ------------  ------------  ------------  ------------  ------------  ------------  \n",
      "Self CPU time total: 10.925s\n",
      "Self CUDA time total: 3.083s\n",
      "\n"
     ]
    }
   ],
   "source": [
    "sort_by_keyword = \"cpu_time_total\"\n",
    "\n",
    "print(prof.key_averages().table(sort_by=sort_by_keyword, row_limit=10))"
   ]
  }
 ],
 "metadata": {
  "kernelspec": {
   "display_name": ".venv",
   "language": "python",
   "name": "python3"
  },
  "language_info": {
   "codemirror_mode": {
    "name": "ipython",
    "version": 3
   },
   "file_extension": ".py",
   "mimetype": "text/x-python",
   "name": "python",
   "nbconvert_exporter": "python",
   "pygments_lexer": "ipython3",
   "version": "3.12.7"
  }
 },
 "nbformat": 4,
 "nbformat_minor": 2
}
