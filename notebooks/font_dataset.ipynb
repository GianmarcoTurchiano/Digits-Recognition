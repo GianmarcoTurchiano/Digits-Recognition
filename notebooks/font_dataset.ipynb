{
 "cells": [
  {
   "cell_type": "code",
   "execution_count": 36,
   "metadata": {},
   "outputs": [],
   "source": [
    "import os\n",
    "import cv2\n",
    "import numpy as np\n",
    "\n",
    "# Configuration\n",
    "output_dir = \"digits_dataset\"\n",
    "image_size = 28\n",
    "font_scale = 1.0\n",
    "font_thickness = 2\n",
    "\n",
    "# Create output directory\n",
    "os.makedirs(output_dir, exist_ok=True)\n",
    "\n",
    "# Map OpenCV font faces to corresponding fonts\n",
    "fonts = [\n",
    "    cv2.FONT_HERSHEY_COMPLEX,\n",
    "    cv2.FONT_HERSHEY_SIMPLEX\n",
    "]\n",
    "\n",
    "# Function to generate digit images\n",
    "def generate_digit_images():\n",
    "    data = []\n",
    "    labels = []\n",
    "    \n",
    "    for cv2_font in fonts:\n",
    "        for digit in range(10):\n",
    "            # Create a black background\n",
    "            image = np.zeros((image_size, image_size), dtype=np.uint8)\n",
    "\n",
    "            # Put the digit in the center of the image\n",
    "            text = str(digit)\n",
    "            text_size = cv2.getTextSize(text, cv2_font, font_scale, font_thickness)[0]\n",
    "            text_x = (image_size - text_size[0]) // 2\n",
    "            text_y = (image_size + text_size[1]) // 2\n",
    "            \n",
    "            cv2.putText(image, text, (text_x, text_y), cv2_font, font_scale, 255, thickness=font_thickness)\n",
    "            \n",
    "            # Append image data and label\n",
    "            data.append(image)\n",
    "            labels.append(digit)\n",
    "\n",
    "    # Convert to numpy arrays\n",
    "    X = np.array(data)\n",
    "    y = np.array(labels)\n",
    "    \n",
    "    return X, y"
   ]
  },
  {
   "cell_type": "code",
   "execution_count": 37,
   "metadata": {},
   "outputs": [],
   "source": [
    "from digits_recognition.experimentation.dataset.save_pickle_data import save_pickle_data\n",
    "\n",
    "X, y = generate_digit_images()\n",
    "\n",
    "save_pickle_data('test.pkl', X, y)"
   ]
  },
  {
   "cell_type": "code",
   "execution_count": 38,
   "metadata": {},
   "outputs": [],
   "source": [
    "from digits_recognition.experimentation.modeling.evaluate import setup_components\n",
    "import yaml\n",
    "\n",
    "with open('../params.yaml', 'r') as file:\n",
    "    params = yaml.safe_load(file)\n",
    "\n",
    "MODEL_PATH = '../models/digit_classifier.pth'\n",
    "TEST_SET_PATH = 'test.pkl'\n",
    "BATCH_SIZE = 64\n",
    "RANDOM_SEED = 42\n",
    "IMAGE_WIDTH = 28\n",
    "IMAGE_HEIGHT = 28\n",
    "IMAGE_CHANNELS = 1\n",
    "CLASS_COUNT = 10\n",
    "\n",
    "model, device, loader, _ = setup_components(\n",
    "    TEST_SET_PATH,\n",
    "    BATCH_SIZE,\n",
    "    MODEL_PATH,\n",
    "    IMAGE_HEIGHT,\n",
    "    IMAGE_WIDTH,\n",
    "    IMAGE_CHANNELS,\n",
    "    CLASS_COUNT,\n",
    "    RANDOM_SEED\n",
    ")"
   ]
  },
  {
   "cell_type": "code",
   "execution_count": 39,
   "metadata": {},
   "outputs": [],
   "source": [
    "for image, _ in loader:\n",
    "    image = image.to(device)\n",
    "    model(image)"
   ]
  }
 ],
 "metadata": {
  "kernelspec": {
   "display_name": ".venv",
   "language": "python",
   "name": "python3"
  },
  "language_info": {
   "codemirror_mode": {
    "name": "ipython",
    "version": 3
   },
   "file_extension": ".py",
   "mimetype": "text/x-python",
   "name": "python",
   "nbconvert_exporter": "python",
   "pygments_lexer": "ipython3",
   "version": "3.12.7"
  }
 },
 "nbformat": 4,
 "nbformat_minor": 2
}
