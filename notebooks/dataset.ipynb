{
 "cells": [
  {
   "cell_type": "code",
   "execution_count": 2,
   "metadata": {},
   "outputs": [
    {
     "name": "stdout",
     "output_type": "stream",
     "text": [
      "Files downloaded to: ../data/raw/archive.zip\n"
     ]
    }
   ],
   "source": [
    "from digits_recognition.dataset import download\n",
    "\n",
    "url = r'https://www.kaggle.com/api/v1/datasets/download/hojjatk/mnist-dataset'\n",
    "out_path = r'../data/raw/archive.zip'\n",
    "\n",
    "download(url, out_path)"
   ]
  },
  {
   "cell_type": "code",
   "execution_count": 3,
   "metadata": {},
   "outputs": [
    {
     "name": "stdout",
     "output_type": "stream",
     "text": [
      "Files extracted to: ../data/interim\n"
     ]
    }
   ],
   "source": [
    "from digits_recognition.dataset import unzip\n",
    "\n",
    "zip_path = r'../data/raw/archive.zip'\n",
    "out_path = r'../data/interim'\n",
    "\n",
    "unzip(zip_path, out_path)"
   ]
  },
  {
   "cell_type": "code",
   "execution_count": null,
   "metadata": {},
   "outputs": [
    {
     "name": "stdout",
     "output_type": "stream",
     "text": [
      "Train Images: (60000, 28, 28)\n",
      "Train Labels: (60000,)\n",
      "Test Images: (10000, 28, 28)\n",
      "Test Labels: (10000,)\n"
     ]
    }
   ],
   "source": [
    "from digits_recognition.dataset import load_ubyte_images, load_ubyte_labels\n",
    "\n",
    "# Load the images and labels\n",
    "train_images = load_ubyte_images('../data/interim/train-images-idx3-ubyte/train-images-idx3-ubyte')\n",
    "train_labels = load_ubyte_labels('../data/interim/train-labels-idx1-ubyte/train-labels-idx1-ubyte')\n",
    "test_images = load_ubyte_images('../data/interim/t10k-images-idx3-ubyte/t10k-images-idx3-ubyte')\n",
    "test_labels = load_ubyte_labels('../data/interim/t10k-labels-idx1-ubyte/t10k-labels-idx1-ubyte')\n",
    "\n",
    "# Example: Display shape\n",
    "print(\"Train Images:\", train_images.shape)\n",
    "print(\"Train Labels:\", train_labels.shape)\n",
    "print(\"Test Images:\", test_images.shape)\n",
    "print(\"Test Labels:\", test_labels.shape)"
   ]
  },
  {
   "cell_type": "code",
   "execution_count": 13,
   "metadata": {},
   "outputs": [
    {
     "name": "stdout",
     "output_type": "stream",
     "text": [
      "Training Images: (51000, 28, 28)\n",
      "Validation Images: (9000, 28, 28)\n",
      "Training Labels: (51000,)\n",
      "Validation Labels: (9000,)\n"
     ]
    }
   ],
   "source": [
    "import numpy as np\n",
    "from sklearn.model_selection import train_test_split\n",
    "\n",
    "# Split the data: 80% for training, 20% for validation\n",
    "X_train, X_val, y_train, y_val = train_test_split(train_images, train_labels, test_size=0.15, random_state=42, stratify=train_labels)\n",
    "\n",
    "# Check the shapes\n",
    "print(\"Training Images:\", X_train.shape)\n",
    "print(\"Validation Images:\", X_val.shape)\n",
    "print(\"Training Labels:\", y_train.shape)\n",
    "print(\"Validation Labels:\", y_val.shape)\n"
   ]
  },
  {
   "cell_type": "code",
   "execution_count": 14,
   "metadata": {},
   "outputs": [],
   "source": [
    "import pickle\n",
    "\n",
    "out_path = r'../data/processed/dataset.pkl'\n",
    "\n",
    "# Save training and validation data\n",
    "with open(out_path, 'wb') as file:\n",
    "    pickle.dump({\n",
    "        'X_train': X_train, 'y_train': y_train,\n",
    "        'X_val': X_val, 'y_val': y_val,\n",
    "        'X_test': test_images, 'y_test': test_labels\n",
    "    }, file)\n"
   ]
  },
  {
   "cell_type": "code",
   "execution_count": null,
   "metadata": {},
   "outputs": [
    {
     "name": "stdout",
     "output_type": "stream",
     "text": [
      "(51000, 28, 28) (51000,)\n",
      "(9000, 28, 28) (9000,)\n",
      "(10000, 28, 28) (10000,)\n"
     ]
    }
   ],
   "source": [
    "with open(out_path, 'rb') as f:\n",
    "    data = pickle.load(f)\n",
    "\n",
    "X_train = data['X_train']\n",
    "y_train = data['y_train']\n",
    "\n",
    "X_val = data['X_val']\n",
    "y_val = data['y_val']\n",
    "\n",
    "X_test = data['X_test']\n",
    "y_test = data['y_test']\n",
    "\n",
    "print(X_train.shape, y_train.shape)\n",
    "print(X_val.shape, y_val.shape)\n",
    "print(X_test.shape, y_test.shape)"
   ]
  },
  {
   "cell_type": "code",
   "execution_count": null,
   "metadata": {},
   "outputs": [],
   "source": [
    "import argparse\n",
    "\n",
    "parser = argparse.ArgumentParser()\n",
    "parser.add_argument(\"echo\")\n",
    "args = parser.parse_args()\n",
    "print(args.echo)"
   ]
  }
 ],
 "metadata": {
  "kernelspec": {
   "display_name": ".venv",
   "language": "python",
   "name": "python3"
  },
  "language_info": {
   "codemirror_mode": {
    "name": "ipython",
    "version": 3
   },
   "file_extension": ".py",
   "mimetype": "text/x-python",
   "name": "python",
   "nbconvert_exporter": "python",
   "pygments_lexer": "ipython3",
   "version": "3.12.7"
  }
 },
 "nbformat": 4,
 "nbformat_minor": 2
}
