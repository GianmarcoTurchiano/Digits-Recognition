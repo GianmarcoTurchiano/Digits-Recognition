{
 "cells": [
  {
   "cell_type": "code",
   "execution_count": 62,
   "metadata": {},
   "outputs": [],
   "source": [
    "import great_expectations as gx"
   ]
  },
  {
   "cell_type": "code",
   "execution_count": 63,
   "metadata": {},
   "outputs": [],
   "source": [
    "import numpy as np\n",
    "\n",
    "def load_ubyte_images(filename):\n",
    "    \"\"\"\n",
    "    Returns the content of a ubyte file parsed as int matrices.\n",
    "    \"\"\"\n",
    "    with open(filename, 'rb') as f:\n",
    "        # Skip the header (first 16 bytes for images)\n",
    "        f.read(16)\n",
    "        # Read the rest as a numpy array, reshape to 28x28 per image\n",
    "        data = np.frombuffer(f.read(), dtype=np.uint8).reshape(-1, 28, 28)\n",
    "    return data\n",
    "\n",
    "def load_ubyte_labels(filename):\n",
    "    \"\"\"\n",
    "    Returns the content of a ubyte file parsed as int scalars.\n",
    "    \"\"\"\n",
    "    with open(filename, 'rb') as f:\n",
    "        # Skip the header (first 8 bytes for labels)\n",
    "        f.read(8)\n",
    "        # Read the rest as a numpy array\n",
    "        labels = np.frombuffer(f.read(), dtype=np.uint8)\n",
    "    return labels"
   ]
  },
  {
   "cell_type": "code",
   "execution_count": 64,
   "metadata": {},
   "outputs": [],
   "source": [
    "train_images = load_ubyte_images(\n",
    "    '../data/interim/unzipped/train-images-idx3-ubyte/train-images-idx3-ubyte'\n",
    ")\n",
    "train_labels = load_ubyte_labels(\n",
    "    '../data/interim/unzipped/train-labels-idx1-ubyte/train-labels-idx1-ubyte'\n",
    ")\n",
    "test_images = load_ubyte_images(\n",
    "    '../data/interim/unzipped/t10k-images-idx3-ubyte/t10k-images-idx3-ubyte'\n",
    ")\n",
    "test_labels = load_ubyte_labels(\n",
    "    '../data/interim/unzipped/t10k-labels-idx1-ubyte/t10k-labels-idx1-ubyte'\n",
    ")"
   ]
  },
  {
   "cell_type": "code",
   "execution_count": 65,
   "metadata": {},
   "outputs": [],
   "source": [
    "labels = [*train_labels, *test_labels]\n",
    "images = [*train_images, *test_images]"
   ]
  },
  {
   "cell_type": "code",
   "execution_count": 66,
   "metadata": {},
   "outputs": [],
   "source": [
    "import pandas as pd\n",
    "\n",
    "train_set = pd.DataFrame({\n",
    "        'image_shapes': [img.shape for img in train_images],\n",
    "        'labels': train_labels\n",
    "    }\n",
    ")\n",
    "\n",
    "test_set = pd.DataFrame({\n",
    "        'image_shapes': [img.shape for img in test_labels],\n",
    "        'labels': test_labels\n",
    "    }\n",
    ")"
   ]
  },
  {
   "cell_type": "code",
   "execution_count": 67,
   "metadata": {},
   "outputs": [],
   "source": [
    "context = gx.get_context()"
   ]
  },
  {
   "cell_type": "code",
   "execution_count": 68,
   "metadata": {},
   "outputs": [],
   "source": [
    "data_source = context.data_sources.add_pandas('dataset')"
   ]
  },
  {
   "cell_type": "code",
   "execution_count": 69,
   "metadata": {},
   "outputs": [],
   "source": [
    "train_asset = data_source.add_dataframe_asset(name='train set')\n",
    "test_asset = data_source.add_dataframe_asset(name='test set')"
   ]
  },
  {
   "cell_type": "code",
   "execution_count": 70,
   "metadata": {},
   "outputs": [],
   "source": [
    "train_batch_def = train_asset.add_batch_definition_whole_dataframe('train batch')\n",
    "test_batch_def = test_asset.add_batch_definition_whole_dataframe('test batch')"
   ]
  },
  {
   "cell_type": "code",
   "execution_count": 71,
   "metadata": {},
   "outputs": [],
   "source": [
    "train_batch = train_batch_def.get_batch(\n",
    "    batch_parameters={\n",
    "        'dataframe':  train_set\n",
    "    }\n",
    ")\n",
    "\n",
    "test_batch = test_batch_def.get_batch(\n",
    "    batch_parameters={\n",
    "        'dataframe':  test_set\n",
    "    }\n",
    ")"
   ]
  },
  {
   "cell_type": "code",
   "execution_count": 72,
   "metadata": {},
   "outputs": [],
   "source": [
    "image_shape_expectation = gx.expectations.ExpectColumnValuesToBeInSet(\n",
    "    column='image_shapes',\n",
    "    value_set={(28, 28)}\n",
    ")\n",
    "\n",
    "label_value_expectation = gx.expectations.ExpectColumnValuesToBeBetween(\n",
    "    column='labels',\n",
    "    min_value=0,\n",
    "    max_value=9\n",
    ")"
   ]
  },
  {
   "cell_type": "code",
   "execution_count": 73,
   "metadata": {},
   "outputs": [
    {
     "data": {
      "application/vnd.jupyter.widget-view+json": {
       "model_id": "adeaee1ce6784a32a495ad09f6a889f7",
       "version_major": 2,
       "version_minor": 0
      },
      "text/plain": [
       "Calculating Metrics:   0%|          | 0/10 [00:00<?, ?it/s]"
      ]
     },
     "metadata": {},
     "output_type": "display_data"
    },
    {
     "data": {
      "application/vnd.jupyter.widget-view+json": {
       "model_id": "53dbb3e7c5ca4dcb95d819e93d0dc30c",
       "version_major": 2,
       "version_minor": 0
      },
      "text/plain": [
       "Calculating Metrics:   0%|          | 0/10 [00:00<?, ?it/s]"
      ]
     },
     "metadata": {},
     "output_type": "display_data"
    }
   ],
   "source": [
    "image_shape_res = train_batch.validate(image_shape_expectation)\n",
    "validation_shape_res = train_batch.validate(label_value_expectation)"
   ]
  },
  {
   "cell_type": "code",
   "execution_count": null,
   "metadata": {},
   "outputs": [
    {
     "name": "stderr",
     "output_type": "stream",
     "text": [
      "/mnt/c/Users/Utente/Desktop/DL_exercise/digits_recognition/.venv/lib/python3.12/site-packages/posthog/client.py:310: DeprecationWarning: datetime.datetime.utcnow() is deprecated and scheduled for removal in a future version. Use timezone-aware objects to represent datetimes in UTC: datetime.datetime.now(datetime.UTC).\n",
      "  timestamp = datetime.utcnow().replace(tzinfo=tzutc())\n"
     ]
    },
    {
     "data": {
      "application/vnd.jupyter.widget-view+json": {
       "model_id": "9144c6d3b7604fffadc9f1954be11665",
       "version_major": 2,
       "version_minor": 0
      },
      "text/plain": [
       "Calculating Metrics:   0%|          | 0/10 [00:00<?, ?it/s]"
      ]
     },
     "metadata": {},
     "output_type": "display_data"
    },
    {
     "data": {
      "application/vnd.jupyter.widget-view+json": {
       "model_id": "32d74b96dc694d90be9a7e912166d174",
       "version_major": 2,
       "version_minor": 0
      },
      "text/plain": [
       "Calculating Metrics:   0%|          | 0/10 [00:00<?, ?it/s]"
      ]
     },
     "metadata": {},
     "output_type": "display_data"
    },
    {
     "data": {
      "application/vnd.jupyter.widget-view+json": {
       "model_id": "555ab8c23eb54cc1a5e4aae51e0a539b",
       "version_major": 2,
       "version_minor": 0
      },
      "text/plain": [
       "Calculating Metrics:   0%|          | 0/10 [00:00<?, ?it/s]"
      ]
     },
     "metadata": {},
     "output_type": "display_data"
    },
    {
     "data": {
      "application/vnd.jupyter.widget-view+json": {
       "model_id": "94732867cd454c20b6d2a6f4a0f41a61",
       "version_major": 2,
       "version_minor": 0
      },
      "text/plain": [
       "Calculating Metrics:   0%|          | 0/10 [00:00<?, ?it/s]"
      ]
     },
     "metadata": {},
     "output_type": "display_data"
    },
    {
     "data": {
      "text/plain": [
       "True"
      ]
     },
     "execution_count": 106,
     "metadata": {},
     "output_type": "execute_result"
    }
   ],
   "source": [
    "def f(data_source, images, labels, asset_name):\n",
    "    df = pd.DataFrame({\n",
    "            'image_shapes': [img.shape for img in images],\n",
    "            'labels': labels\n",
    "        }\n",
    "    )\n",
    "\n",
    "    asset = data_source.add_dataframe_asset(name=asset_name)\n",
    "    batch_def = asset.add_batch_definition_whole_dataframe(f'{asset_name} batch')\n",
    "\n",
    "    batch = batch_def.get_batch(\n",
    "        batch_parameters={\n",
    "                'dataframe': df\n",
    "            }\n",
    "    )\n",
    "\n",
    "    return batch\n",
    "\n",
    "def g(batch, expectation, res):\n",
    "    res.append(batch.validate(expectation))\n",
    "\n",
    "context = gx.get_context()\n",
    "\n",
    "image_shape_expectation = gx.expectations.ExpectColumnValuesToBeInSet(\n",
    "    column='image_shapes',\n",
    "    value_set={(28, 28)}\n",
    ")\n",
    "\n",
    "label_value_expectation = gx.expectations.ExpectColumnValuesToBeInSet(\n",
    "    column='labels',\n",
    "    value_set=range(10)\n",
    ")\n",
    "\n",
    "data_source = context.data_sources.add_pandas('dataset')\n",
    "\n",
    "train_batch = f(data_source, train_images, train_labels, 'train set')\n",
    "test_batch = f(data_source, test_images, test_labels, 'test set')\n",
    "\n",
    "res = []\n",
    "\n",
    "g(train_batch, image_shape_expectation, res)\n",
    "g(train_batch, label_value_expectation, res)\n",
    "g(test_batch, image_shape_expectation, res)\n",
    "g(test_batch, label_value_expectation, res)\n",
    "\n",
    "all([r.success for r in res])"
   ]
  }
 ],
 "metadata": {
  "kernelspec": {
   "display_name": ".venv",
   "language": "python",
   "name": "python3"
  },
  "language_info": {
   "codemirror_mode": {
    "name": "ipython",
    "version": 3
   },
   "file_extension": ".py",
   "mimetype": "text/x-python",
   "name": "python",
   "nbconvert_exporter": "python",
   "pygments_lexer": "ipython3",
   "version": "3.12.7"
  }
 },
 "nbformat": 4,
 "nbformat_minor": 2
}
